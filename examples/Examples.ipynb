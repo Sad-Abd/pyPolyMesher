{
 "cells": [
  {
   "cell_type": "markdown",
   "metadata": {},
   "source": [
    "# pyPolyMesher Examples\n",
    "\n",
    "This Jupyter Notebook serves as a comprehensive guide for using the pyPolyMesher library to generate polygonal meshes. pyPolyMesher is a Python library designed for polygon mesh generation and is particularly useful for various engineering and computational geometry applications.\n",
    "\n",
    "## Purpose\n",
    "The primary purpose of this notebook is to provide users with practical examples and detailed instructions on how to utilize pyPolyMesher effectively. We will explore different domains and scenarios to demonstrate the versatility of the library. The notebook contains code snippets and explanations for each domain, covering structured and unstructured mesh generation.\n",
    "\n",
    "## What this Notebook Contains\n",
    "This notebook is structured into sections, each dedicated to a specific example. In the following sections, you will find:\n",
    "\n",
    "- Structured Mesh Generation: Demonstrating the generation of structured meshes.\n",
    "- Unstructured Mesh Generation: Creating meshes using specified or randomly distributed points.\n",
    "- Additional Configurations: Special cases or scenarios for specific domains, such as fixed points or unique features.\n",
    "- Creation of a custom domains: A step-by-step guide on how to create new custom domains\n",
    "\n",
    "By following the examples in this notebook, you can learn how to apply pyPolyMesher to your own projects and mesh generation tasks. Let's dive into the world of polygonal mesh generation with **pyPolyMesher**!"
   ]
  },
  {
   "cell_type": "markdown",
   "metadata": {},
   "source": [
    "## Importing Essential Libraries and Functions\n",
    "\n",
    "In this section, we begin by importing the necessary libraries and functions for our mesh generation examples. We'll make use of `numpy` for numerical operations and two key components from the `pyPolyMesher` library: `PolyMesher` function and `Domain` class. These are the core building blocks that allow us to create, manipulate, and visualize polygonal meshes for various domains."
   ]
  },
  {
   "cell_type": "code",
   "execution_count": null,
   "metadata": {},
   "outputs": [],
   "source": [
    "import numpy as np\n",
    "from pyPolyMesher import PolyMesher, Domain"
   ]
  },
  {
   "cell_type": "markdown",
   "metadata": {},
   "source": [
    "## Example 1: Structured Mesh Generation on MBB Domain\n",
    "\n",
    "**MBB Domain**: In structural engineering and topology optimization, the MBB (Material-Based Beam) domain is a specific type of design domain used to optimize the configuration of beams. Beams are structural elements primarily subjected to bending loads, and MBB domain topology optimization aims to find the optimal material distribution within the beam design domain. The objective is to maximize the beam's strength and stiffness while minimizing its weight. By default, the MBB domain is defined as a rectangle from (0,0) to (3,1).\n",
    "\n",
    "\n",
    "**Visualization**:\n",
    "\n",
    "- To visualize the MBB domain, you can use the `Plot` method provided for `Domain` class. This allows you to inspect the domain's geometry before mesh generation."
   ]
  },
  {
   "cell_type": "code",
   "execution_count": null,
   "metadata": {},
   "outputs": [],
   "source": [
    "from pyPolyMesher.exampleDomains import MbbDomain\n",
    "\n",
    "MbbDomain.Plot()"
   ]
  },
  {
   "cell_type": "markdown",
   "metadata": {},
   "source": [
    "**Structured Mesh Generation**:\n",
    "- In this example, we demonstrate the process of generating a structured mesh within the MBB domain.\n",
    "- We define the dimensions of the structured mesh using parameters like `nelx` and `nely`, along with specifying the domain's size.\n",
    "- The `numpy` library is used to create a grid of points within the MBB domain, ensuring a structured layout.\n",
    "- We calculate the grid spacing (`dx` and `dy`) and create a mesh of points to represent the MBB domain.\n",
    "- Utilizing the `PolyMesher` function, the structured mesh is generated based on the defined MBB domain and meshing parameters.\n",
    "- The result is a structured mesh with information on nodes(`Nodes`), elements(`Elements`), support conditions (`Supp`), and loads (`Load`)."
   ]
  },
  {
   "cell_type": "code",
   "execution_count": null,
   "metadata": {},
   "outputs": [],
   "source": [
    "nelx = 5\n",
    "nely = 4\n",
    "\n",
    "dx = 3 / nelx\n",
    "dy = 1 / nely\n",
    "\n",
    "x_range = np.arange(dx / 2, 3, dx)\n",
    "y_range = np.arange(dy / 2, 1, dy)\n",
    "\n",
    "X, Y = np.meshgrid(x_range, y_range)\n",
    "P = np.column_stack((X.ravel(), Y.ravel()))\n",
    "\n",
    "Nodes, Elements, Supp, Load, P = PolyMesher(MbbDomain, 20, 30, P)"
   ]
  },
  {
   "cell_type": "markdown",
   "metadata": {},
   "source": [
    "## Example 2: Unstructured Mesh Generation\n",
    "\n",
    "The following domains are adapted from MATLAB PolyMesher program:\n",
    "\n",
    "**Horn Domain**\n",
    "\n",
    "The Horn domain represents a complex geometry. Here, we utilize the `PolyMesher` function to perform unstructured mesh generation on the Horn domain. The function takes parameters such as the domain (`HornDomain`), the desired number of elements (`NElem`), the maximum number of iterations (`MaxIter`). The `anim=True` flag enables visualization during the meshing process."
   ]
  },
  {
   "cell_type": "code",
   "execution_count": null,
   "metadata": {},
   "outputs": [],
   "source": [
    "from pyPolyMesher.exampleDomains import HornDomain\n",
    "Node, Element, Supp, Load, P = PolyMesher(HornDomain, 150, 50, anim=True)"
   ]
  },
  {
   "cell_type": "markdown",
   "metadata": {},
   "source": [
    "**Wrench Domain**\n",
    "\n"
   ]
  },
  {
   "cell_type": "code",
   "execution_count": null,
   "metadata": {},
   "outputs": [],
   "source": [
    "from pyPolyMesher.exampleDomains import WrenchDomain\n",
    "WrenchDomain.Plot()\n",
    "Node, Element, Supp, Load, P = PolyMesher(WrenchDomain, 150, 100)"
   ]
  },
  {
   "cell_type": "markdown",
   "metadata": {},
   "source": [
    "**Michell Domain**\n",
    "\n",
    "\n",
    "The Michell domain is used for unstructured mesh generation with the PolyMesher function. The function parameters include the domain (MichellDomain), the desired number of elements (NElem), the maximum number of iterations (MaxIter)."
   ]
  },
  {
   "cell_type": "markdown",
   "metadata": {},
   "source": [
    "These examples showcase unstructured mesh generation for different complex domains, utilizing the PolyMesher function with specific meshing parameters. If you have further questions or if there's anything else you'd like to discuss, feel free to let me know!"
   ]
  }
 ],
 "metadata": {
  "kernelspec": {
   "display_name": "scienv",
   "language": "python",
   "name": "python3"
  },
  "language_info": {
   "codemirror_mode": {
    "name": "ipython",
    "version": 3
   },
   "file_extension": ".py",
   "mimetype": "text/x-python",
   "name": "python",
   "nbconvert_exporter": "python",
   "pygments_lexer": "ipython3",
   "version": "3.10.12"
  }
 },
 "nbformat": 4,
 "nbformat_minor": 2
}
